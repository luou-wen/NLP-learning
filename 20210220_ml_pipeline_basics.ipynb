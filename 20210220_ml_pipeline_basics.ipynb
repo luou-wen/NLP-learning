{
 "cells": [
  {
   "cell_type": "code",
   "execution_count": 5,
   "metadata": {},
   "outputs": [
    {
     "name": "stdout",
     "output_type": "stream",
     "text": [
      "0.9066666666666666\n"
     ]
    }
   ],
   "source": [
    "# Based on tutorial at https://www.youtube.com/watch?v=84gqSbLcBFE\n",
    "# Pipline tutorial\n",
    "#load dataset\n",
    "from sklearn import datasets\n",
    "iris = datasets.load_iris()\n",
    "\n",
    "X = iris.data\n",
    "y = iris.target \n",
    "\n",
    "# split dataset\n",
    "from sklearn.model_selection import train_test_split\n",
    "X_train, X_test, y_train, y_test = train_test_split(X, y, test_size = .5)\n",
    "\n",
    "# load model\n",
    "# from sklearn.neighbors import KNeighborsClassifier\n",
    "# my_classifier = KNeighborsClassifier()\n",
    "\n",
    "# load model\n",
    "from sklearn.linear_model import LogisticRegression\n",
    "my_classifier = LogisticRegression()\n",
    "\n",
    "#fit the model\n",
    "my_classifier.fit(X_train, y_train)\n",
    "\n",
    "# get predictions:\n",
    "predictions = my_classifier.predict(X_test)\n",
    "\n",
    "# evaluate the predictions with metrics - in this case, accuracy\n",
    "from sklearn.metrics import accuracy_score\n",
    "print(accuracy_score(y_test, predictions))"
   ]
  },
  {
   "cell_type": "code",
   "execution_count": null,
   "metadata": {},
   "outputs": [],
   "source": []
  },
  {
   "cell_type": "code",
   "execution_count": null,
   "metadata": {},
   "outputs": [],
   "source": []
  },
  {
   "cell_type": "code",
   "execution_count": null,
   "metadata": {},
   "outputs": [],
   "source": []
  },
  {
   "cell_type": "code",
   "execution_count": null,
   "metadata": {},
   "outputs": [],
   "source": []
  }
 ],
 "metadata": {
  "kernelspec": {
   "display_name": "Python 3",
   "language": "python",
   "name": "python3"
  },
  "language_info": {
   "codemirror_mode": {
    "name": "ipython",
    "version": 3
   },
   "file_extension": ".py",
   "mimetype": "text/x-python",
   "name": "python",
   "nbconvert_exporter": "python",
   "pygments_lexer": "ipython3",
   "version": "3.8.5"
  }
 },
 "nbformat": 4,
 "nbformat_minor": 4
}
